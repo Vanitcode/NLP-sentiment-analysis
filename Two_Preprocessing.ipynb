{
 "cells": [
  {
   "cell_type": "markdown",
   "id": "c26d379c",
   "metadata": {},
   "source": [
    "# Preprocessing and pipeline"
   ]
  },
  {
   "cell_type": "markdown",
   "id": "a64175ad",
   "metadata": {},
   "source": [
    "In this notebook we are going to create a processing pipeline taking into account what we saw in notebook 1."
   ]
  },
  {
   "cell_type": "code",
   "execution_count": 1,
   "id": "13ced35a",
   "metadata": {},
   "outputs": [],
   "source": [
    "#Load libraries\n",
    "import pandas as pd\n",
    "from collections import Counter\n",
    "import matplotlib.pyplot as plt\n",
    "%matplotlib inline\n",
    "import re\n",
    "import nltk\n",
    "#nltk.download(\"stopwords\")\n",
    "from nltk.corpus import stopwords # import stopwords\n",
    "from nltk.stem.porter import *\n",
    "stemmer = PorterStemmer()\n",
    "import os\n",
    "import pickle\n",
    "\n",
    "#Load sample dataframe\n",
    "def open_dataframe(path):\n",
    "    data = pd.read_pickle(path)\n",
    "    return data.drop(['overall'], axis=1)\n",
    "\n",
    "#Tokenization\n",
    "def review_2_words(review):\n",
    "    \"\"\"Convert a raw review string into a sequence of words.\"\"\"\n",
    "    \n",
    "    text = re.sub(r\"[^a-zA-Z0-9]\", \" \", review.lower())\n",
    "    \n",
    "    words = text.split()\n",
    "    stopwords = nltk.corpus.stopwords.words('english')\n",
    "    stopwords.extend([\"play\", \"game\", \"video\", \"one\"])\n",
    "    words = [w for w in words if w not in stopwords]\n",
    "    \n",
    "    #words = [PorterStemmer().stem(w) for w in words]\n",
    "    #We are not going to use Stemm to speed up the process and\n",
    "    #because we lose a lot of information from our texts\n",
    "    \n",
    "    return words\n"
   ]
  },
  {
   "cell_type": "code",
   "execution_count": 2,
   "id": "da0686dd",
   "metadata": {},
   "outputs": [],
   "source": [
    "#let's create process data function\n",
    "cache_dir = os.path.join(\"cache\", \"sentiment_analysis\")\n",
    "os.makedirs(cache_dir, exist_ok=True)\n",
    "\n",
    "def preprocessData(data_train, labels_train, \n",
    "                    cache_dir=cache_dir, cache_file=\"preprocessed_data.pkl\"):\n",
    "    \n",
    "\n",
    "    cache_data = None\n",
    "    if cache_file is not None:\n",
    "        try:\n",
    "            with open(os.path.join(cache_dir, cache_file), \"rb\") as f:\n",
    "                cache_data = pickle.load(f)\n",
    "            print(\"Read preprocessed data from cache file:\", cache_file)\n",
    "        except:\n",
    "            pass\n",
    "    \n",
    "    if cache_data is None:\n",
    "        words_train = list(map(review_2_words, data_train))\n",
    "        \n",
    "        if cache_file is not None:\n",
    "            cache_data = dict(words_train=words_train, \n",
    "                              labels_train=labels_train)\n",
    "            with open(os.path.join(cache_dir, cache_file), \"wb\") as f:\n",
    "                pickle.dump(cache_data, f)\n",
    "            print(\"Wrote preprocessed data to cache file:\", cache_file)\n",
    "    else:\n",
    "        words_train, labels_train = (cache_data['words_train'],\n",
    "               cache_data['labels_train'])\n",
    "    \n",
    "    return words_train,labels_train"
   ]
  },
  {
   "cell_type": "code",
   "execution_count": 3,
   "id": "16f6dc94",
   "metadata": {},
   "outputs": [],
   "source": [
    "#pipeline function\n",
    "def pipeline_process (path):\n",
    "    data = open_dataframe(path)\n",
    "    words_train, labels_train = preprocessData(\n",
    "        data[\"reviewText\"], data[\"sentiment_label\"])\n",
    "    return words_train, labels_train"
   ]
  },
  {
   "cell_type": "code",
   "execution_count": 4,
   "id": "086ae04a",
   "metadata": {},
   "outputs": [
    {
     "name": "stdout",
     "output_type": "stream",
     "text": [
      "Read preprocessed data from cache file: preprocessed_data.pkl\n"
     ]
    }
   ],
   "source": [
    "#Let's run our pipeline!\n",
    "words_process, labels = pipeline_process(\"data_balanced\")"
   ]
  },
  {
   "cell_type": "code",
   "execution_count": null,
   "id": "6dd750f7",
   "metadata": {},
   "outputs": [],
   "source": []
  }
 ],
 "metadata": {
  "kernelspec": {
   "display_name": "Python 3",
   "language": "python",
   "name": "python3"
  },
  "language_info": {
   "codemirror_mode": {
    "name": "ipython",
    "version": 3
   },
   "file_extension": ".py",
   "mimetype": "text/x-python",
   "name": "python",
   "nbconvert_exporter": "python",
   "pygments_lexer": "ipython3",
   "version": "3.8.8"
  }
 },
 "nbformat": 4,
 "nbformat_minor": 5
}
