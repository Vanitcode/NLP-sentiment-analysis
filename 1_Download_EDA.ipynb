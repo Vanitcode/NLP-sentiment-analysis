{
 "cells": [
  {
   "cell_type": "markdown",
   "id": "661d4f3a",
   "metadata": {},
   "source": [
    "# Download and EDA"
   ]
  },
  {
   "cell_type": "markdown",
   "id": "6391e957",
   "metadata": {},
   "source": [
    "Let's do a sentiment analysis of a dataset of Amazon reviews for video games."
   ]
  },
  {
   "cell_type": "markdown",
   "id": "534b20cb",
   "metadata": {},
   "source": [
    "### 1. Load data\n",
    "The next code reads the data into a pandas data frame:"
   ]
  },
  {
   "cell_type": "code",
   "execution_count": 1,
   "id": "b2d0c4fc",
   "metadata": {},
   "outputs": [
    {
     "data": {
      "text/html": [
       "<div>\n",
       "<style scoped>\n",
       "    .dataframe tbody tr th:only-of-type {\n",
       "        vertical-align: middle;\n",
       "    }\n",
       "\n",
       "    .dataframe tbody tr th {\n",
       "        vertical-align: top;\n",
       "    }\n",
       "\n",
       "    .dataframe thead th {\n",
       "        text-align: right;\n",
       "    }\n",
       "</style>\n",
       "<table border=\"1\" class=\"dataframe\">\n",
       "  <thead>\n",
       "    <tr style=\"text-align: right;\">\n",
       "      <th></th>\n",
       "      <th>reviewerID</th>\n",
       "      <th>asin</th>\n",
       "      <th>reviewerName</th>\n",
       "      <th>helpful</th>\n",
       "      <th>reviewText</th>\n",
       "      <th>overall</th>\n",
       "      <th>summary</th>\n",
       "      <th>unixReviewTime</th>\n",
       "      <th>reviewTime</th>\n",
       "    </tr>\n",
       "  </thead>\n",
       "  <tbody>\n",
       "    <tr>\n",
       "      <th>0</th>\n",
       "      <td>A2HD75EMZR8QLN</td>\n",
       "      <td>0700099867</td>\n",
       "      <td>123</td>\n",
       "      <td>[8, 12]</td>\n",
       "      <td>Installing the game was a struggle (because of...</td>\n",
       "      <td>1.0</td>\n",
       "      <td>Pay to unlock content? I don't think so.</td>\n",
       "      <td>1341792000</td>\n",
       "      <td>07 9, 2012</td>\n",
       "    </tr>\n",
       "    <tr>\n",
       "      <th>1</th>\n",
       "      <td>A3UR8NLLY1ZHCX</td>\n",
       "      <td>0700099867</td>\n",
       "      <td>Alejandro Henao \"Electronic Junky\"</td>\n",
       "      <td>[0, 0]</td>\n",
       "      <td>If you like rally cars get this game you will ...</td>\n",
       "      <td>4.0</td>\n",
       "      <td>Good rally game</td>\n",
       "      <td>1372550400</td>\n",
       "      <td>06 30, 2013</td>\n",
       "    </tr>\n",
       "    <tr>\n",
       "      <th>2</th>\n",
       "      <td>A1INA0F5CWW3J4</td>\n",
       "      <td>0700099867</td>\n",
       "      <td>Amazon Shopper \"Mr.Repsol\"</td>\n",
       "      <td>[0, 0]</td>\n",
       "      <td>1st shipment received a book instead of the ga...</td>\n",
       "      <td>1.0</td>\n",
       "      <td>Wrong key</td>\n",
       "      <td>1403913600</td>\n",
       "      <td>06 28, 2014</td>\n",
       "    </tr>\n",
       "    <tr>\n",
       "      <th>3</th>\n",
       "      <td>A1DLMTOTHQ4AST</td>\n",
       "      <td>0700099867</td>\n",
       "      <td>ampgreen</td>\n",
       "      <td>[7, 10]</td>\n",
       "      <td>I got this version instead of the PS3 version,...</td>\n",
       "      <td>3.0</td>\n",
       "      <td>awesome game, if it did not crash frequently !!</td>\n",
       "      <td>1315958400</td>\n",
       "      <td>09 14, 2011</td>\n",
       "    </tr>\n",
       "    <tr>\n",
       "      <th>4</th>\n",
       "      <td>A361M14PU2GUEG</td>\n",
       "      <td>0700099867</td>\n",
       "      <td>Angry Ryan \"Ryan A. Forrest\"</td>\n",
       "      <td>[2, 2]</td>\n",
       "      <td>I had Dirt 2 on Xbox 360 and it was an okay ga...</td>\n",
       "      <td>4.0</td>\n",
       "      <td>DIRT 3</td>\n",
       "      <td>1308009600</td>\n",
       "      <td>06 14, 2011</td>\n",
       "    </tr>\n",
       "    <tr>\n",
       "      <th>5</th>\n",
       "      <td>A2UTRVO4FDCBH6</td>\n",
       "      <td>0700099867</td>\n",
       "      <td>A.R.G.</td>\n",
       "      <td>[0, 0]</td>\n",
       "      <td>Overall this is a well done racing game, with ...</td>\n",
       "      <td>4.0</td>\n",
       "      <td>Good racing game, terrible Windows Live Requir...</td>\n",
       "      <td>1368230400</td>\n",
       "      <td>05 11, 2013</td>\n",
       "    </tr>\n",
       "    <tr>\n",
       "      <th>6</th>\n",
       "      <td>AN3YYDZAS3O1Y</td>\n",
       "      <td>0700099867</td>\n",
       "      <td>Bob</td>\n",
       "      <td>[11, 13]</td>\n",
       "      <td>Loved playing Dirt 2 and I thought the graphic...</td>\n",
       "      <td>5.0</td>\n",
       "      <td>A step up from Dirt 2 and that is terrific!</td>\n",
       "      <td>1313280000</td>\n",
       "      <td>08 14, 2011</td>\n",
       "    </tr>\n",
       "    <tr>\n",
       "      <th>7</th>\n",
       "      <td>AQTC623NCESZW</td>\n",
       "      <td>0700099867</td>\n",
       "      <td>Chesty Puller</td>\n",
       "      <td>[1, 4]</td>\n",
       "      <td>I can't tell you what a piece of dog**** this ...</td>\n",
       "      <td>1.0</td>\n",
       "      <td>Crash 3 is correct name AKA Microsoft</td>\n",
       "      <td>1353715200</td>\n",
       "      <td>11 24, 2012</td>\n",
       "    </tr>\n",
       "    <tr>\n",
       "      <th>8</th>\n",
       "      <td>A1QJJU33VNC4S7</td>\n",
       "      <td>0700099867</td>\n",
       "      <td>D@rkFX</td>\n",
       "      <td>[0, 1]</td>\n",
       "      <td>I initially gave this one star because it was ...</td>\n",
       "      <td>4.0</td>\n",
       "      <td>A great game ruined by Microsoft's account man...</td>\n",
       "      <td>1352851200</td>\n",
       "      <td>11 14, 2012</td>\n",
       "    </tr>\n",
       "    <tr>\n",
       "      <th>9</th>\n",
       "      <td>A2JLT2WY0F2HVI</td>\n",
       "      <td>0700099867</td>\n",
       "      <td>D. Sweetapple</td>\n",
       "      <td>[1, 1]</td>\n",
       "      <td>I still haven't figured this one out. Did ever...</td>\n",
       "      <td>2.0</td>\n",
       "      <td>Couldn't get this one to work</td>\n",
       "      <td>1391817600</td>\n",
       "      <td>02 8, 2014</td>\n",
       "    </tr>\n",
       "  </tbody>\n",
       "</table>\n",
       "</div>"
      ],
      "text/plain": [
       "       reviewerID        asin                        reviewerName   helpful  \\\n",
       "0  A2HD75EMZR8QLN  0700099867                                 123   [8, 12]   \n",
       "1  A3UR8NLLY1ZHCX  0700099867  Alejandro Henao \"Electronic Junky\"    [0, 0]   \n",
       "2  A1INA0F5CWW3J4  0700099867          Amazon Shopper \"Mr.Repsol\"    [0, 0]   \n",
       "3  A1DLMTOTHQ4AST  0700099867                            ampgreen   [7, 10]   \n",
       "4  A361M14PU2GUEG  0700099867        Angry Ryan \"Ryan A. Forrest\"    [2, 2]   \n",
       "5  A2UTRVO4FDCBH6  0700099867                              A.R.G.    [0, 0]   \n",
       "6   AN3YYDZAS3O1Y  0700099867                                 Bob  [11, 13]   \n",
       "7   AQTC623NCESZW  0700099867                       Chesty Puller    [1, 4]   \n",
       "8  A1QJJU33VNC4S7  0700099867                              D@rkFX    [0, 1]   \n",
       "9  A2JLT2WY0F2HVI  0700099867                       D. Sweetapple    [1, 1]   \n",
       "\n",
       "                                          reviewText  overall  \\\n",
       "0  Installing the game was a struggle (because of...      1.0   \n",
       "1  If you like rally cars get this game you will ...      4.0   \n",
       "2  1st shipment received a book instead of the ga...      1.0   \n",
       "3  I got this version instead of the PS3 version,...      3.0   \n",
       "4  I had Dirt 2 on Xbox 360 and it was an okay ga...      4.0   \n",
       "5  Overall this is a well done racing game, with ...      4.0   \n",
       "6  Loved playing Dirt 2 and I thought the graphic...      5.0   \n",
       "7  I can't tell you what a piece of dog**** this ...      1.0   \n",
       "8  I initially gave this one star because it was ...      4.0   \n",
       "9  I still haven't figured this one out. Did ever...      2.0   \n",
       "\n",
       "                                             summary  unixReviewTime  \\\n",
       "0           Pay to unlock content? I don't think so.      1341792000   \n",
       "1                                    Good rally game      1372550400   \n",
       "2                                          Wrong key      1403913600   \n",
       "3    awesome game, if it did not crash frequently !!      1315958400   \n",
       "4                                             DIRT 3      1308009600   \n",
       "5  Good racing game, terrible Windows Live Requir...      1368230400   \n",
       "6        A step up from Dirt 2 and that is terrific!      1313280000   \n",
       "7              Crash 3 is correct name AKA Microsoft      1353715200   \n",
       "8  A great game ruined by Microsoft's account man...      1352851200   \n",
       "9                      Couldn't get this one to work      1391817600   \n",
       "\n",
       "    reviewTime  \n",
       "0   07 9, 2012  \n",
       "1  06 30, 2013  \n",
       "2  06 28, 2014  \n",
       "3  09 14, 2011  \n",
       "4  06 14, 2011  \n",
       "5  05 11, 2013  \n",
       "6  08 14, 2011  \n",
       "7  11 24, 2012  \n",
       "8  11 14, 2012  \n",
       "9   02 8, 2014  "
      ]
     },
     "execution_count": 1,
     "metadata": {},
     "output_type": "execute_result"
    }
   ],
   "source": [
    "import pandas as pd\n",
    "import gzip\n",
    "\n",
    "def parse(path):\n",
    "  g = gzip.open(path, 'rb')\n",
    "  for l in g:\n",
    "    yield eval(l)\n",
    "\n",
    "def getDF(path):\n",
    "  i = 0\n",
    "  df = {}\n",
    "  for d in parse(path):\n",
    "    df[i] = d\n",
    "    i += 1\n",
    "  return pd.DataFrame.from_dict(df, orient='index')\n",
    "\n",
    "df = getDF('./reviews_Video_Games_5.json.gz')\n",
    "\n",
    "df.head(10)"
   ]
  },
  {
   "cell_type": "code",
   "execution_count": 2,
   "id": "ad430fd6",
   "metadata": {},
   "outputs": [
    {
     "data": {
      "text/plain": [
       "Index(['reviewerID', 'asin', 'reviewerName', 'helpful', 'reviewText',\n",
       "       'overall', 'summary', 'unixReviewTime', 'reviewTime'],\n",
       "      dtype='object')"
      ]
     },
     "execution_count": 2,
     "metadata": {},
     "output_type": "execute_result"
    }
   ],
   "source": [
    "df.columns"
   ]
  },
  {
   "cell_type": "code",
   "execution_count": 3,
   "id": "8d952084",
   "metadata": {},
   "outputs": [],
   "source": [
    "data = df.drop(['reviewerID', 'asin', 'reviewerName', 'helpful',\n",
    "       'summary', 'unixReviewTime', 'reviewTime'], axis=1)"
   ]
  },
  {
   "cell_type": "code",
   "execution_count": 4,
   "id": "6042c058",
   "metadata": {},
   "outputs": [
    {
     "data": {
      "text/html": [
       "<div>\n",
       "<style scoped>\n",
       "    .dataframe tbody tr th:only-of-type {\n",
       "        vertical-align: middle;\n",
       "    }\n",
       "\n",
       "    .dataframe tbody tr th {\n",
       "        vertical-align: top;\n",
       "    }\n",
       "\n",
       "    .dataframe thead th {\n",
       "        text-align: right;\n",
       "    }\n",
       "</style>\n",
       "<table border=\"1\" class=\"dataframe\">\n",
       "  <thead>\n",
       "    <tr style=\"text-align: right;\">\n",
       "      <th></th>\n",
       "      <th>reviewText</th>\n",
       "      <th>overall</th>\n",
       "    </tr>\n",
       "  </thead>\n",
       "  <tbody>\n",
       "    <tr>\n",
       "      <th>0</th>\n",
       "      <td>Installing the game was a struggle (because of...</td>\n",
       "      <td>1.0</td>\n",
       "    </tr>\n",
       "    <tr>\n",
       "      <th>1</th>\n",
       "      <td>If you like rally cars get this game you will ...</td>\n",
       "      <td>4.0</td>\n",
       "    </tr>\n",
       "    <tr>\n",
       "      <th>2</th>\n",
       "      <td>1st shipment received a book instead of the ga...</td>\n",
       "      <td>1.0</td>\n",
       "    </tr>\n",
       "    <tr>\n",
       "      <th>3</th>\n",
       "      <td>I got this version instead of the PS3 version,...</td>\n",
       "      <td>3.0</td>\n",
       "    </tr>\n",
       "    <tr>\n",
       "      <th>4</th>\n",
       "      <td>I had Dirt 2 on Xbox 360 and it was an okay ga...</td>\n",
       "      <td>4.0</td>\n",
       "    </tr>\n",
       "  </tbody>\n",
       "</table>\n",
       "</div>"
      ],
      "text/plain": [
       "                                          reviewText  overall\n",
       "0  Installing the game was a struggle (because of...      1.0\n",
       "1  If you like rally cars get this game you will ...      4.0\n",
       "2  1st shipment received a book instead of the ga...      1.0\n",
       "3  I got this version instead of the PS3 version,...      3.0\n",
       "4  I had Dirt 2 on Xbox 360 and it was an okay ga...      4.0"
      ]
     },
     "execution_count": 4,
     "metadata": {},
     "output_type": "execute_result"
    }
   ],
   "source": [
    "data.head()"
   ]
  },
  {
   "cell_type": "code",
   "execution_count": 7,
   "id": "a2a8256e",
   "metadata": {},
   "outputs": [
    {
     "data": {
      "text/plain": [
       "0"
      ]
     },
     "execution_count": 7,
     "metadata": {},
     "output_type": "execute_result"
    }
   ],
   "source": [
    "data.isnull().sum().sum()"
   ]
  },
  {
   "cell_type": "code",
   "execution_count": 8,
   "id": "45b0f135",
   "metadata": {},
   "outputs": [
    {
     "data": {
      "text/html": [
       "<div>\n",
       "<style scoped>\n",
       "    .dataframe tbody tr th:only-of-type {\n",
       "        vertical-align: middle;\n",
       "    }\n",
       "\n",
       "    .dataframe tbody tr th {\n",
       "        vertical-align: top;\n",
       "    }\n",
       "\n",
       "    .dataframe thead th {\n",
       "        text-align: right;\n",
       "    }\n",
       "</style>\n",
       "<table border=\"1\" class=\"dataframe\">\n",
       "  <thead>\n",
       "    <tr style=\"text-align: right;\">\n",
       "      <th></th>\n",
       "      <th>reviewText</th>\n",
       "      <th>overall</th>\n",
       "    </tr>\n",
       "  </thead>\n",
       "  <tbody>\n",
       "    <tr>\n",
       "      <th>0</th>\n",
       "      <td>Installing the game was a struggle (because of...</td>\n",
       "      <td>1.0</td>\n",
       "    </tr>\n",
       "    <tr>\n",
       "      <th>1</th>\n",
       "      <td>If you like rally cars get this game you will ...</td>\n",
       "      <td>4.0</td>\n",
       "    </tr>\n",
       "    <tr>\n",
       "      <th>2</th>\n",
       "      <td>1st shipment received a book instead of the ga...</td>\n",
       "      <td>1.0</td>\n",
       "    </tr>\n",
       "    <tr>\n",
       "      <th>3</th>\n",
       "      <td>I got this version instead of the PS3 version,...</td>\n",
       "      <td>3.0</td>\n",
       "    </tr>\n",
       "    <tr>\n",
       "      <th>4</th>\n",
       "      <td>I had Dirt 2 on Xbox 360 and it was an okay ga...</td>\n",
       "      <td>4.0</td>\n",
       "    </tr>\n",
       "  </tbody>\n",
       "</table>\n",
       "</div>"
      ],
      "text/plain": [
       "                                          reviewText  overall\n",
       "0  Installing the game was a struggle (because of...      1.0\n",
       "1  If you like rally cars get this game you will ...      4.0\n",
       "2  1st shipment received a book instead of the ga...      1.0\n",
       "3  I got this version instead of the PS3 version,...      3.0\n",
       "4  I had Dirt 2 on Xbox 360 and it was an okay ga...      4.0"
      ]
     },
     "execution_count": 8,
     "metadata": {},
     "output_type": "execute_result"
    }
   ],
   "source": [
    "data.head()"
   ]
  },
  {
   "cell_type": "code",
   "execution_count": 9,
   "id": "cfd133c7",
   "metadata": {},
   "outputs": [
    {
     "data": {
      "text/plain": [
       "(231780, 2)"
      ]
     },
     "execution_count": 9,
     "metadata": {},
     "output_type": "execute_result"
    }
   ],
   "source": [
    "data.shape"
   ]
  },
  {
   "cell_type": "markdown",
   "id": "a1e044e7",
   "metadata": {},
   "source": [
    "### 2. Vocabulary Cardinality"
   ]
  },
  {
   "cell_type": "code",
   "execution_count": 10,
   "id": "05451d3c",
   "metadata": {},
   "outputs": [],
   "source": [
    "from collections import Counter\n",
    "import matplotlib.pyplot as plt\n",
    "import re\n",
    "import nltk\n",
    "#nltk.download(\"stopwords\")   # download list of stopwords (only once; need not run it again)\n",
    "from nltk.corpus import stopwords # import stopwords\n",
    "from nltk.stem.porter import *\n",
    "stemmer = PorterStemmer()\n",
    "import os"
   ]
  },
  {
   "cell_type": "code",
   "execution_count": 11,
   "id": "251ccba0",
   "metadata": {},
   "outputs": [],
   "source": [
    "def review_to_words(review):\n",
    "    \"\"\"Convert a raw review string into a sequence of words.\"\"\"\n",
    "    \n",
    "   \n",
    "    # Convertimos a minúscula y quitamos todo lo que no sea texto o números\n",
    "    text = re.sub(r\"[^a-zA-Z0-9]\", \" \", review.lower())\n",
    "    # Dividimos por espacios\n",
    "    words = text.split()\n",
    "    # Eliminamos stopwords\n",
    "    words = [w for w in words if w not in stopwords.words(\"english\")]\n",
    "    # Aplicamos stemming\n",
    "    words = [PorterStemmer().stem(w) for w in words]\n",
    "\n",
    "    return words"
   ]
  },
  {
   "cell_type": "code",
   "execution_count": 12,
   "id": "ac9eabea",
   "metadata": {},
   "outputs": [
    {
     "name": "stdout",
     "output_type": "stream",
     "text": [
      "Read preprocessed data from cache file: preprocessed_data.pkl\n"
     ]
    }
   ],
   "source": [
    "import pickle\n",
    "\n",
    "cache_dir = os.path.join(\"cache\", \"sentiment_analysis\")\n",
    "os.makedirs(cache_dir, exist_ok=True)\n",
    "\n",
    "def preprocess_data(data_train, labels_train, \n",
    "                    cache_dir=cache_dir, cache_file=\"preprocessed_data.pkl\"):\n",
    "    \"\"\"Convert each review to words; read from cache if available.\"\"\"\n",
    "\n",
    "    cache_data = None\n",
    "    if cache_file is not None:\n",
    "        try:\n",
    "            with open(os.path.join(cache_dir, cache_file), \"rb\") as f:\n",
    "                cache_data = pickle.load(f)\n",
    "            print(\"Read preprocessed data from cache file:\", cache_file)\n",
    "        except:\n",
    "            pass\n",
    "    \n",
    "    if cache_data is None:\n",
    "        words_train = list(map(review_to_words, data_train))\n",
    "        \n",
    "        \n",
    "        if cache_file is not None:\n",
    "            cache_data = dict(words_train=words_train, \n",
    "                              labels_train=labels_train)\n",
    "            with open(os.path.join(cache_dir, cache_file), \"wb\") as f:\n",
    "                pickle.dump(cache_data, f)\n",
    "            print(\"Wrote preprocessed data to cache file:\", cache_file)\n",
    "    else:\n",
    "        words_train, labels_train = (cache_data['words_train'],\n",
    "               cache_data['labels_train'])\n",
    "    \n",
    "    return words_train,labels_train\n",
    "\n",
    "\n",
    "words_train, labels_train = preprocess_data(\n",
    "        data[\"reviewText\"], data[\"overall\"])\n",
    "\n"
   ]
  },
  {
   "cell_type": "code",
   "execution_count": 13,
   "id": "2ee1c0c7",
   "metadata": {},
   "outputs": [
    {
     "name": "stdout",
     "output_type": "stream",
     "text": [
      "\n",
      "--- Raw review ---\n",
      "If you like rally cars get this game you will have fun.It is more oriented to &#34;European market&#34; since here in America there isn't a huge rally fan party. Music it is very European and even the voices from the game very &#34;English&#34; accent.The multiplayer isn't the best but it works just ok.\n",
      "\n",
      "--- Preprocessed words ---\n",
      "['like', 'ralli', 'car', 'get', 'game', 'fun', 'orient', '34', 'european', 'market', '34', 'sinc', 'america', 'huge', 'ralli', 'fan', 'parti', 'music', 'european', 'even', 'voic', 'game', '34', 'english', '34', 'accent', 'multiplay', 'best', 'work', 'ok']\n",
      "\n",
      "--- Label ---\n",
      "4.0\n"
     ]
    }
   ],
   "source": [
    "print(\"\\n--- Raw review ---\")\n",
    "print(data[\"reviewText\"][1])\n",
    "print(\"\\n--- Preprocessed words ---\")\n",
    "print(words_train[1])\n",
    "print(\"\\n--- Label ---\")\n",
    "print(labels_train[1])"
   ]
  },
  {
   "cell_type": "code",
   "execution_count": 14,
   "id": "e157fe64",
   "metadata": {},
   "outputs": [
    {
     "data": {
      "text/plain": [
       "231780"
      ]
     },
     "execution_count": 14,
     "metadata": {},
     "output_type": "execute_result"
    }
   ],
   "source": [
    "len(words_train)"
   ]
  },
  {
   "cell_type": "code",
   "execution_count": 15,
   "id": "fc463ae3",
   "metadata": {
    "scrolled": true
   },
   "outputs": [],
   "source": [
    "flat_list = [item for sublist in words_train for item in sublist]"
   ]
  },
  {
   "cell_type": "code",
   "execution_count": 16,
   "id": "59b61a51",
   "metadata": {},
   "outputs": [],
   "source": [
    "wf = Counter(flat_list)"
   ]
  },
  {
   "cell_type": "code",
   "execution_count": 17,
   "id": "700019a1",
   "metadata": {},
   "outputs": [
    {
     "data": {
      "text/plain": [
       "162951"
      ]
     },
     "execution_count": 17,
     "metadata": {},
     "output_type": "execute_result"
    }
   ],
   "source": [
    "len(wf)"
   ]
  },
  {
   "cell_type": "code",
   "execution_count": 18,
   "id": "21f78f08",
   "metadata": {},
   "outputs": [],
   "source": [
    "total_words= [y for review in data[\"reviewText\"] for y in review.lower().split()]"
   ]
  },
  {
   "cell_type": "code",
   "execution_count": 19,
   "id": "6d5a8cf6",
   "metadata": {},
   "outputs": [
    {
     "data": {
      "text/plain": [
       "1016594"
      ]
     },
     "execution_count": 19,
     "metadata": {},
     "output_type": "execute_result"
    }
   ],
   "source": [
    "wf2 = Counter(total_words)\n",
    "len(wf2)"
   ]
  },
  {
   "cell_type": "code",
   "execution_count": null,
   "id": "5328ef73",
   "metadata": {},
   "outputs": [],
   "source": []
  },
  {
   "cell_type": "markdown",
   "id": "5cf9d4f4",
   "metadata": {},
   "source": [
    "**Without using techniques that reduce the cardinality of our corpus, such as lemmatization or normalization, we have obtained a set of 1016594 tokens. While, applying general stopwords and lemmatization techniques, we have obtained 162951 tokens**"
   ]
  },
  {
   "cell_type": "code",
   "execution_count": 20,
   "id": "1c94fbd7",
   "metadata": {},
   "outputs": [],
   "source": [
    "#del total_words, wf2"
   ]
  },
  {
   "cell_type": "markdown",
   "id": "99cfe691",
   "metadata": {},
   "source": [
    "### 3. Distribution of reviews by stars and by positive/negative"
   ]
  },
  {
   "cell_type": "code",
   "execution_count": 21,
   "id": "a89d9083",
   "metadata": {},
   "outputs": [
    {
     "data": {
      "text/plain": [
       "reviewText     object\n",
       "overall       float64\n",
       "dtype: object"
      ]
     },
     "execution_count": 21,
     "metadata": {},
     "output_type": "execute_result"
    }
   ],
   "source": [
    "data.dtypes"
   ]
  },
  {
   "cell_type": "code",
   "execution_count": 22,
   "id": "6330e81f",
   "metadata": {},
   "outputs": [
    {
     "data": {
      "text/plain": [
       "array([[<AxesSubplot:title={'center':'overall'}>]], dtype=object)"
      ]
     },
     "execution_count": 22,
     "metadata": {},
     "output_type": "execute_result"
    },
    {
     "data": {
      "image/png": "[encoded data removed]",
      "text/plain": [
       "<Figure size 432x288 with 1 Axes>"
      ]
     },
     "metadata": {
      "needs_background": "light"
     },
     "output_type": "display_data"
    }
   ],
   "source": [
    "data.hist(column=\"overall\")"
   ]
  },
  {
   "cell_type": "code",
   "execution_count": 23,
   "id": "2a78c169",
   "metadata": {},
   "outputs": [],
   "source": [
    "def label_sentiment(row):\n",
    "    if int(row['overall']) > 2:\n",
    "        return 1\n",
    "    else:\n",
    "        return 0"
   ]
  },
  {
   "cell_type": "code",
   "execution_count": 24,
   "id": "44f4f56b",
   "metadata": {},
   "outputs": [
    {
     "data": {
      "text/html": [
       "<div>\n",
       "<style scoped>\n",
       "    .dataframe tbody tr th:only-of-type {\n",
       "        vertical-align: middle;\n",
       "    }\n",
       "\n",
       "    .dataframe tbody tr th {\n",
       "        vertical-align: top;\n",
       "    }\n",
       "\n",
       "    .dataframe thead th {\n",
       "        text-align: right;\n",
       "    }\n",
       "</style>\n",
       "<table border=\"1\" class=\"dataframe\">\n",
       "  <thead>\n",
       "    <tr style=\"text-align: right;\">\n",
       "      <th></th>\n",
       "      <th>reviewText</th>\n",
       "      <th>overall</th>\n",
       "      <th>sentiment_label</th>\n",
       "    </tr>\n",
       "  </thead>\n",
       "  <tbody>\n",
       "    <tr>\n",
       "      <th>0</th>\n",
       "      <td>Installing the game was a struggle (because of...</td>\n",
       "      <td>1.0</td>\n",
       "      <td>0</td>\n",
       "    </tr>\n",
       "    <tr>\n",
       "      <th>1</th>\n",
       "      <td>If you like rally cars get this game you will ...</td>\n",
       "      <td>4.0</td>\n",
       "      <td>1</td>\n",
       "    </tr>\n",
       "    <tr>\n",
       "      <th>2</th>\n",
       "      <td>1st shipment received a book instead of the ga...</td>\n",
       "      <td>1.0</td>\n",
       "      <td>0</td>\n",
       "    </tr>\n",
       "    <tr>\n",
       "      <th>3</th>\n",
       "      <td>I got this version instead of the PS3 version,...</td>\n",
       "      <td>3.0</td>\n",
       "      <td>1</td>\n",
       "    </tr>\n",
       "    <tr>\n",
       "      <th>4</th>\n",
       "      <td>I had Dirt 2 on Xbox 360 and it was an okay ga...</td>\n",
       "      <td>4.0</td>\n",
       "      <td>1</td>\n",
       "    </tr>\n",
       "  </tbody>\n",
       "</table>\n",
       "</div>"
      ],
      "text/plain": [
       "                                          reviewText  overall  sentiment_label\n",
       "0  Installing the game was a struggle (because of...      1.0                0\n",
       "1  If you like rally cars get this game you will ...      4.0                1\n",
       "2  1st shipment received a book instead of the ga...      1.0                0\n",
       "3  I got this version instead of the PS3 version,...      3.0                1\n",
       "4  I had Dirt 2 on Xbox 360 and it was an okay ga...      4.0                1"
      ]
     },
     "execution_count": 24,
     "metadata": {},
     "output_type": "execute_result"
    }
   ],
   "source": [
    "data['sentiment_label'] = df.apply(lambda row: label_sentiment(row), axis=1)\n",
    "data.head()"
   ]
  },
  {
   "cell_type": "code",
   "execution_count": 25,
   "id": "d19c8948",
   "metadata": {
    "scrolled": true
   },
   "outputs": [
    {
     "data": {
      "text/plain": [
       "array([[<AxesSubplot:title={'center':'sentiment_label'}>]], dtype=object)"
      ]
     },
     "execution_count": 25,
     "metadata": {},
     "output_type": "execute_result"
    },
    {
     "data": {
      "image/png": "[encoded data removed]",
      "text/plain": [
       "<Figure size 432x288 with 1 Axes>"
      ]
     },
     "metadata": {
      "needs_background": "light"
     },
     "output_type": "display_data"
    }
   ],
   "source": [
    "data.hist(column=\"sentiment_label\")"
   ]
  },
  {
   "cell_type": "code",
   "execution_count": 26,
   "id": "a297cf6d",
   "metadata": {},
   "outputs": [
    {
     "name": "stdout",
     "output_type": "stream",
     "text": [
      "Percentage of negatives: 0.12\n",
      "Percentage of positives: 0.88\n"
     ]
    }
   ],
   "source": [
    "posi = round(data[\"sentiment_label\"].value_counts()[1]/data.shape[0],2)\n",
    "neg = round(data[\"sentiment_label\"].value_counts()[0]/data.shape[0],2)\n",
    "print('Percentage of negatives: {}\\nPercentage of positives: {}'.format(neg, posi))"
   ]
  },
  {
   "cell_type": "markdown",
   "id": "2e0e4abe",
   "metadata": {},
   "source": [
    "There is a clear imbalance between the number of positive and negative reviews. In the conclusions of this notebook we will take this point into account."
   ]
  },
  {
   "cell_type": "markdown",
   "id": "a2edc950",
   "metadata": {},
   "source": [
    "### 3. N-Grams most frequent"
   ]
  },
  {
   "cell_type": "code",
   "execution_count": 27,
   "id": "e53599c3",
   "metadata": {},
   "outputs": [],
   "source": [
    "from nltk import ngrams\n",
    "from nltk.probability import FreqDist"
   ]
  },
  {
   "cell_type": "markdown",
   "id": "f86767e8",
   "metadata": {},
   "source": [
    "We are going to extract the trigrams and bigrams from the processed corpus (flat_list)"
   ]
  },
  {
   "cell_type": "code",
   "execution_count": 28,
   "id": "8fab3e38",
   "metadata": {},
   "outputs": [],
   "source": [
    "bigrams_ = list(ngrams(flat_list, 2))\n",
    "trigrams_ = list(ngrams(flat_list, 3))"
   ]
  },
  {
   "cell_type": "code",
   "execution_count": 29,
   "id": "778d3eb7",
   "metadata": {},
   "outputs": [],
   "source": [
    "def most_commons_grams(n_gram, top=10):\n",
    "    g_freq = FreqDist(n_gram)\n",
    "    g_freq.most_common(top)\n",
    "    return g_freq"
   ]
  },
  {
   "cell_type": "code",
   "execution_count": 30,
   "id": "954629a2",
   "metadata": {},
   "outputs": [
    {
     "data": {
      "text/plain": [
       "FreqDist({('play', 'game'): 38840, ('game', 'play'): 34729, ('game', 'like'): 19741, ('great', 'game'): 18985, ('feel', 'like'): 16669, ('video', 'game'): 16363, ('singl', 'player'): 12941, ('game', 'realli'): 12221, ('good', 'game'): 12170, ('game', 'game'): 12090, ...})"
      ]
     },
     "execution_count": 30,
     "metadata": {},
     "output_type": "execute_result"
    }
   ],
   "source": [
    "most_commons_grams(bigrams_)"
   ]
  },
  {
   "cell_type": "code",
   "execution_count": 31,
   "id": "c3bb7d4d",
   "metadata": {},
   "outputs": [
    {
     "data": {
      "text/plain": [
       "FreqDist({('first', 'person', 'shooter'): 4165, ('game', 'ever', 'play'): 3822, ('one', 'best', 'game'): 2881, ('grand', 'theft', 'auto'): 2562, ('metal', 'gear', 'solid'): 2225, ('singl', 'player', 'campaign'): 2200, ('super', 'mario', 'bro'): 2111, ('best', 'game', 'ever'): 2106, ('highli', 'recommend', 'game'): 1713, ('game', 'lot', 'fun'): 1665, ...})"
      ]
     },
     "execution_count": 31,
     "metadata": {},
     "output_type": "execute_result"
    }
   ],
   "source": [
    "most_commons_grams(trigrams_)"
   ]
  },
  {
   "cell_type": "markdown",
   "id": "08a90e2e",
   "metadata": {},
   "source": [
    "It seems that interesting n_grams have been obtained. It should be noted that names of some games have come out in the trigrams."
   ]
  },
  {
   "cell_type": "markdown",
   "id": "e53660b7",
   "metadata": {},
   "source": [
    "### 4. Word cloud"
   ]
  },
  {
   "cell_type": "code",
   "execution_count": 32,
   "id": "298dbcaf",
   "metadata": {},
   "outputs": [],
   "source": [
    "#!pip install wordcloud"
   ]
  },
  {
   "cell_type": "code",
   "execution_count": 33,
   "id": "b3c4aa99",
   "metadata": {
    "scrolled": true
   },
   "outputs": [
    {
     "data": {
      "image/png": "[encoded data removed]",
      "text/plain": [
       "<Figure size 720x360 with 1 Axes>"
      ]
     },
     "metadata": {
      "needs_background": "light"
     },
     "output_type": "display_data"
    }
   ],
   "source": [
    "from wordcloud import WordCloud\n",
    "\n",
    "combined_text = \" \".join([word for word in flat_list])\n",
    "                                                \n",
    "# Inicializamos el wordcloud\n",
    "wc = WordCloud(background_color='white', max_words=50)\n",
    "        # Actualizamos las stopwords para incluir palabras comunes del tema\n",
    "        #stopwords = STOPWORDS.update(['game','videogame','xbox', 'play', 'pc']))\n",
    "plt.rcParams['figure.figsize'] = [10, 5]\n",
    "plt.imshow(wc.generate(combined_text))\n",
    "plt.axis('off')\n",
    "plt.show()"
   ]
  },
  {
   "cell_type": "markdown",
   "id": "406b1eca",
   "metadata": {},
   "source": [
    "The word cloud indicates that many of the most frequently repeated words are bigrams."
   ]
  },
  {
   "cell_type": "markdown",
   "id": "b1598ad5",
   "metadata": {},
   "source": [
    "### Embeddings representations"
   ]
  },
  {
   "cell_type": "markdown",
   "id": "fab16ea0",
   "metadata": {},
   "source": [
    "We are going to make a 2D visualization of some word embeddings. We will also see the most similar."
   ]
  },
  {
   "cell_type": "code",
   "execution_count": 34,
   "id": "f7ab56b6",
   "metadata": {},
   "outputs": [
    {
     "data": {
      "text/plain": [
       "FreqDist({'game': 1025284, 'play': 313762, 'like': 250375, 'get': 217226, 'one': 210741, 'time': 168647, 'good': 131586, 'realli': 127409, 'great': 124042, 'use': 123836, ...})"
      ]
     },
     "execution_count": 34,
     "metadata": {},
     "output_type": "execute_result"
    }
   ],
   "source": [
    "most_commons_grams(flat_list)"
   ]
  },
  {
   "cell_type": "markdown",
   "id": "a1a536b8",
   "metadata": {},
   "source": [
    "In our Word2Vec we are going to use the CBOW architecture since we have a very large corpus. In addition, the objective is to give the context of the review and from there be able to predict keywords that lead us to the appropriate sentiment label.\n",
    "\n",
    "For this architecture, we need to set some hyperparameters. Therefore, and in advance, we are going to do some calculations."
   ]
  },
  {
   "cell_type": "code",
   "execution_count": 35,
   "id": "91354d91",
   "metadata": {},
   "outputs": [
    {
     "name": "stdout",
     "output_type": "stream",
     "text": [
      "3080\n",
      "106.31043662093364\n"
     ]
    }
   ],
   "source": [
    "# See the mean and maximal words per review\n",
    "\n",
    "number_words_per_review = [len(listElem) for listElem in words_train]\n",
    "\n",
    "n_max_words = max(number_words_per_review )\n",
    "mean_words = sum(number_words_per_review)/len(number_words_per_review)\n",
    "\n",
    "print(n_max_words)\n",
    "print(mean_words)"
   ]
  },
  {
   "cell_type": "code",
   "execution_count": 36,
   "id": "98439b5b",
   "metadata": {},
   "outputs": [
    {
     "data": {
      "text/plain": [
       "(array([2.14244e+05, 1.42550e+04, 2.41800e+03, 5.73000e+02, 1.61000e+02,\n",
       "        6.00000e+01, 3.90000e+01, 1.10000e+01, 9.00000e+00, 1.00000e+01]),\n",
       " array([   0.,  308.,  616.,  924., 1232., 1540., 1848., 2156., 2464.,\n",
       "        2772., 3080.]),\n",
       " <BarContainer object of 10 artists>)"
      ]
     },
     "execution_count": 36,
     "metadata": {},
     "output_type": "execute_result"
    },
    {
     "data": {
      "image/png": "[encoded data removed]",
      "text/plain": [
       "<Figure size 720x360 with 1 Axes>"
      ]
     },
     "metadata": {
      "needs_background": "light"
     },
     "output_type": "display_data"
    }
   ],
   "source": [
    "plt.hist(number_words_per_review)"
   ]
  },
  {
   "cell_type": "markdown",
   "id": "c904db7e",
   "metadata": {},
   "source": [
    "This histogram reflects that most reviews are under 600 words. This data is useful for one of the hypermaparameters.\n",
    "\n",
    "Note: the application of this histogram could be useful as a method to define outliers and see how it would affect our future models."
   ]
  },
  {
   "cell_type": "code",
   "execution_count": 37,
   "id": "f5665f5d",
   "metadata": {},
   "outputs": [
    {
     "name": "stdout",
     "output_type": "stream",
     "text": [
      "Requirement already satisfied: gensim in c:\\programdata\\anaconda3\\lib\\site-packages (4.1.2)\n",
      "Requirement already satisfied: numpy>=1.17.0 in c:\\programdata\\anaconda3\\lib\\site-packages (from gensim) (1.20.1)\n",
      "Requirement already satisfied: smart-open>=1.8.1 in c:\\programdata\\anaconda3\\lib\\site-packages (from gensim) (5.2.1)\n",
      "Requirement already satisfied: scipy>=0.18.1 in c:\\programdata\\anaconda3\\lib\\site-packages (from gensim) (1.6.2)\n",
      "Requirement already satisfied: Cython==0.29.23 in c:\\programdata\\anaconda3\\lib\\site-packages (from gensim) (0.29.23)\n"
     ]
    }
   ],
   "source": [
    "!pip install -U gensim"
   ]
  },
  {
   "cell_type": "code",
   "execution_count": 38,
   "id": "792f519d",
   "metadata": {},
   "outputs": [],
   "source": [
    "from gensim.models import Word2Vec\n",
    "from gensim.models.word2vec import LineSentence\n",
    "#hyperparameters\n",
    "cbow_params = {\n",
    "    'vector_size': 400,\n",
    "    'window': 6,\n",
    "    'min_count': 3,\n",
    "    'sg': 0,\n",
    "    'hs': 0,\n",
    "    'negative': 20,\n",
    "    'workers':6\n",
    "}\n",
    "#We initialize the Word2Vec object\n",
    "w2v_cbow = Word2Vec(**cbow_params)"
   ]
  },
  {
   "cell_type": "code",
   "execution_count": 39,
   "id": "0fa95d35",
   "metadata": {},
   "outputs": [],
   "source": [
    "#w2v_cbow.build_vocab(flat_list)"
   ]
  },
  {
   "cell_type": "code",
   "execution_count": 40,
   "id": "b7fd52fe",
   "metadata": {},
   "outputs": [],
   "source": [
    "#corpus = LineSentence(words_train)"
   ]
  },
  {
   "cell_type": "code",
   "execution_count": 41,
   "id": "f074fcf4",
   "metadata": {},
   "outputs": [],
   "source": [
    "#w2v_cbow.train(corpus, total_examples=w2v_cbow.corpus_count, epochs=4)"
   ]
  },
  {
   "cell_type": "markdown",
   "id": "32806810",
   "metadata": {},
   "source": [
    "<font color='red'>The last step creates a crash error on our local computer. This is due to the large corpus we have. In the next point, conclusions, we will see what we can do after this sticking point. </font>"
   ]
  },
  {
   "cell_type": "markdown",
   "id": "615fe46d",
   "metadata": {},
   "source": [
    "### Conclusions"
   ]
  },
  {
   "cell_type": "markdown",
   "id": "9b5b2f2e",
   "metadata": {},
   "source": [
    "The data exploration carried out has concluded in two major problems of our dataset.\n",
    "1. We have a very unbalanced set between positive and negative feedback.\n",
    "2. The large size of our dataset prevents my machine from processing a word2vec for the corpus.\n",
    "\n",
    "**For these reasons, I will subsample the positive reviews. Thus, we will balance the two sentiments and drastically reduce the data set.\n",
    "In addition, both the wordcloud and the frequency of words reveal that there are very common words in all the reviews and that they could be considered as Stopwords (play, game, video, one)**"
   ]
  },
  {
   "cell_type": "code",
   "execution_count": 49,
   "id": "bc1c447c",
   "metadata": {},
   "outputs": [],
   "source": [
    "df_true = data[data['sentiment_label'] == 0]\n",
    "df_false = data[data['sentiment_label'] == 1]\n",
    "data_sample = pd.concat([df_true, df_false.sample(df_true.shape[0])])"
   ]
  },
  {
   "cell_type": "code",
   "execution_count": 50,
   "id": "3d690678",
   "metadata": {},
   "outputs": [
    {
     "data": {
      "text/plain": [
       "(57032, 3)"
      ]
     },
     "execution_count": 50,
     "metadata": {},
     "output_type": "execute_result"
    }
   ],
   "source": [
    "data_sample.shape"
   ]
  },
  {
   "cell_type": "code",
   "execution_count": 61,
   "id": "061155ef",
   "metadata": {},
   "outputs": [],
   "source": [
    "data_sample.to_pickle(\"data_balanced\")"
   ]
  },
  {
   "cell_type": "code",
   "execution_count": 56,
   "id": "83c30ba2",
   "metadata": {},
   "outputs": [
    {
     "data": {
      "text/plain": [
       "0         Installing the game was a struggle (because of...\n",
       "2         1st shipment received a book instead of the ga...\n",
       "7         I can't tell you what a piece of dog**** this ...\n",
       "9         I still haven't figured this one out. Did ever...\n",
       "13        I bought this and the key didn't work.  It was...\n",
       "                                ...                        \n",
       "150447    Recently, I acquired the bundle with the class...\n",
       "8888      If you are trying to decide which video game s...\n",
       "38468     I rented this game from the library a while ba...\n",
       "204220    good game met my expectations people still che...\n",
       "20186     Who would've thought playing a game where you ...\n",
       "Name: reviewText, Length: 57032, dtype: object"
      ]
     },
     "execution_count": 56,
     "metadata": {},
     "output_type": "execute_result"
    }
   ],
   "source": [
    "#output = pd.read_pickle(\"data_balanced\")\n",
    "#output[\"reviewText\"]"
   ]
  },
  {
   "cell_type": "code",
   "execution_count": null,
   "id": "615d7ae7",
   "metadata": {},
   "outputs": [],
   "source": []
  }
 ],
 "metadata": {
  "kernelspec": {
   "display_name": "Python 3",
   "language": "python",
   "name": "python3"
  },
  "language_info": {
   "codemirror_mode": {
    "name": "ipython",
    "version": 3
   },
   "file_extension": ".py",
   "mimetype": "text/x-python",
   "name": "python",
   "nbconvert_exporter": "python",
   "pygments_lexer": "ipython3",
   "version": "3.8.8"
  }
 },
 "nbformat": 4,
 "nbformat_minor": 5
}
